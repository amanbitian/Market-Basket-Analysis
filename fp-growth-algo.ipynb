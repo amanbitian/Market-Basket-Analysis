{
 "cells": [
  {
   "cell_type": "markdown",
   "id": "9e0741ae",
   "metadata": {
    "papermill": {
     "duration": 0.010922,
     "end_time": "2022-01-29T17:48:55.731476",
     "exception": false,
     "start_time": "2022-01-29T17:48:55.720554",
     "status": "completed"
    },
    "tags": []
   },
   "source": [
    "# Frequent Pattern Growth Algorithm\n",
    "[Click here to read in depth](https://www.geeksforgeeks.org/ml-frequent-pattern-growth-algorithm/)"
   ]
  },
  {
   "cell_type": "code",
   "execution_count": 1,
   "id": "3677b340",
   "metadata": {
    "execution": {
     "iopub.execute_input": "2022-01-29T17:48:55.755462Z",
     "iopub.status.busy": "2022-01-29T17:48:55.754192Z",
     "iopub.status.idle": "2022-01-29T17:49:09.553454Z",
     "shell.execute_reply": "2022-01-29T17:49:09.552320Z",
     "shell.execute_reply.started": "2022-01-29T17:42:13.616323Z"
    },
    "papermill": {
     "duration": 13.81227,
     "end_time": "2022-01-29T17:49:09.553645",
     "exception": false,
     "start_time": "2022-01-29T17:48:55.741375",
     "status": "completed"
    },
    "tags": []
   },
   "outputs": [
    {
     "name": "stdout",
     "output_type": "stream",
     "text": [
      "Collecting pyfpgrowth\r\n",
      "  Downloading pyfpgrowth-1.0.tar.gz (1.6 MB)\r\n",
      "     |████████████████████████████████| 1.6 MB 2.3 MB/s            \r\n",
      "\u001b[?25h  Preparing metadata (setup.py) ... \u001b[?25l-\b \bdone\r\n",
      "\u001b[?25hBuilding wheels for collected packages: pyfpgrowth\r\n",
      "  Building wheel for pyfpgrowth (setup.py) ... \u001b[?25l-\b \b\\\b \bdone\r\n",
      "\u001b[?25h  Created wheel for pyfpgrowth: filename=pyfpgrowth-1.0-py2.py3-none-any.whl size=5504 sha256=d01997e62f50c766a779170617bd86bc043938a3ebedaa4613f6737865159a24\r\n",
      "  Stored in directory: /root/.cache/pip/wheels/73/97/4b/f12ac994f6bbb99597396255435824c73ad3916be1e678be55\r\n",
      "Successfully built pyfpgrowth\r\n",
      "Installing collected packages: pyfpgrowth\r\n",
      "Successfully installed pyfpgrowth-1.0\r\n",
      "\u001b[33mWARNING: Running pip as the 'root' user can result in broken permissions and conflicting behaviour with the system package manager. It is recommended to use a virtual environment instead: https://pip.pypa.io/warnings/venv\u001b[0m\r\n"
     ]
    }
   ],
   "source": [
    "### Install \n",
    "!pip install pyfpgrowth"
   ]
  },
  {
   "cell_type": "code",
   "execution_count": 2,
   "id": "1a714694",
   "metadata": {
    "_cell_guid": "b1076dfc-b9ad-4769-8c92-a6c4dae69d19",
    "_uuid": "8f2839f25d086af736a60e9eeb907d3b93b6e0e5",
    "execution": {
     "iopub.execute_input": "2022-01-29T17:49:09.590122Z",
     "iopub.status.busy": "2022-01-29T17:49:09.588099Z",
     "iopub.status.idle": "2022-01-29T17:49:09.594939Z",
     "shell.execute_reply": "2022-01-29T17:49:09.595607Z",
     "shell.execute_reply.started": "2022-01-29T17:42:27.052659Z"
    },
    "papermill": {
     "duration": 0.027562,
     "end_time": "2022-01-29T17:49:09.595843",
     "exception": false,
     "start_time": "2022-01-29T17:49:09.568281",
     "status": "completed"
    },
    "tags": []
   },
   "outputs": [],
   "source": [
    "import numpy as np # linear algebra\n",
    "import pandas as pd # data processing, CSV file I/O (e.g. pd.read_csv)\n",
    "import pyfpgrowth"
   ]
  },
  {
   "cell_type": "code",
   "execution_count": 3,
   "id": "c5189028",
   "metadata": {
    "execution": {
     "iopub.execute_input": "2022-01-29T17:49:09.628165Z",
     "iopub.status.busy": "2022-01-29T17:49:09.627097Z",
     "iopub.status.idle": "2022-01-29T17:49:09.632840Z",
     "shell.execute_reply": "2022-01-29T17:49:09.633429Z",
     "shell.execute_reply.started": "2022-01-29T17:44:28.699086Z"
    },
    "papermill": {
     "duration": 0.023584,
     "end_time": "2022-01-29T17:49:09.633634",
     "exception": false,
     "start_time": "2022-01-29T17:49:09.610050",
     "status": "completed"
    },
    "tags": []
   },
   "outputs": [],
   "source": [
    "### Creating an dummy dataset (List)\n",
    "transactions = [[1, 2, 5],\n",
    "                [2, 4],\n",
    "                [2, 3],\n",
    "                [1, 2, 4],\n",
    "                [1, 3],\n",
    "                [2, 3],\n",
    "                [1, 3],\n",
    "                [1, 2, 3, 5],\n",
    "                [1, 2, 3]]"
   ]
  },
  {
   "cell_type": "code",
   "execution_count": 4,
   "id": "dd734687",
   "metadata": {
    "execution": {
     "iopub.execute_input": "2022-01-29T17:49:09.665137Z",
     "iopub.status.busy": "2022-01-29T17:49:09.664416Z",
     "iopub.status.idle": "2022-01-29T17:49:09.673055Z",
     "shell.execute_reply": "2022-01-29T17:49:09.673731Z",
     "shell.execute_reply.started": "2022-01-29T17:44:36.229847Z"
    },
    "papermill": {
     "duration": 0.026008,
     "end_time": "2022-01-29T17:49:09.673915",
     "exception": false,
     "start_time": "2022-01-29T17:49:09.647907",
     "status": "completed"
    },
    "tags": []
   },
   "outputs": [
    {
     "data": {
      "text/plain": [
       "[[1, 2, 5],\n",
       " [2, 4],\n",
       " [2, 3],\n",
       " [1, 2, 4],\n",
       " [1, 3],\n",
       " [2, 3],\n",
       " [1, 3],\n",
       " [1, 2, 3, 5],\n",
       " [1, 2, 3]]"
      ]
     },
     "execution_count": 4,
     "metadata": {},
     "output_type": "execute_result"
    }
   ],
   "source": [
    "transactions"
   ]
  },
  {
   "cell_type": "code",
   "execution_count": 5,
   "id": "f83442b1",
   "metadata": {
    "execution": {
     "iopub.execute_input": "2022-01-29T17:49:09.706123Z",
     "iopub.status.busy": "2022-01-29T17:49:09.705405Z",
     "iopub.status.idle": "2022-01-29T17:49:09.710810Z",
     "shell.execute_reply": "2022-01-29T17:49:09.709874Z",
     "shell.execute_reply.started": "2022-01-29T17:46:07.470342Z"
    },
    "papermill": {
     "duration": 0.022861,
     "end_time": "2022-01-29T17:49:09.711023",
     "exception": false,
     "start_time": "2022-01-29T17:49:09.688162",
     "status": "completed"
    },
    "tags": []
   },
   "outputs": [],
   "source": [
    "patterns = pyfpgrowth.find_frequent_patterns(transactions, 2)"
   ]
  },
  {
   "cell_type": "code",
   "execution_count": 6,
   "id": "73804168",
   "metadata": {
    "execution": {
     "iopub.execute_input": "2022-01-29T17:49:09.747727Z",
     "iopub.status.busy": "2022-01-29T17:49:09.746864Z",
     "iopub.status.idle": "2022-01-29T17:49:09.750649Z",
     "shell.execute_reply": "2022-01-29T17:49:09.751221Z",
     "shell.execute_reply.started": "2022-01-29T17:47:45.709728Z"
    },
    "papermill": {
     "duration": 0.025254,
     "end_time": "2022-01-29T17:49:09.751405",
     "exception": false,
     "start_time": "2022-01-29T17:49:09.726151",
     "status": "completed"
    },
    "tags": []
   },
   "outputs": [
    {
     "data": {
      "text/plain": [
       "{(5,): 2,\n",
       " (1, 5): 2,\n",
       " (2, 5): 2,\n",
       " (1, 2, 5): 2,\n",
       " (4,): 2,\n",
       " (2, 4): 2,\n",
       " (1,): 6,\n",
       " (1, 2): 4,\n",
       " (2, 3): 4,\n",
       " (1, 2, 3): 2,\n",
       " (1, 3): 4,\n",
       " (2,): 7}"
      ]
     },
     "execution_count": 6,
     "metadata": {},
     "output_type": "execute_result"
    }
   ],
   "source": [
    "patterns"
   ]
  },
  {
   "cell_type": "code",
   "execution_count": 7,
   "id": "1a0b58b3",
   "metadata": {
    "execution": {
     "iopub.execute_input": "2022-01-29T17:49:09.787628Z",
     "iopub.status.busy": "2022-01-29T17:49:09.786675Z",
     "iopub.status.idle": "2022-01-29T17:49:09.789890Z",
     "shell.execute_reply": "2022-01-29T17:49:09.789244Z",
     "shell.execute_reply.started": "2022-01-29T17:46:10.704867Z"
    },
    "papermill": {
     "duration": 0.023576,
     "end_time": "2022-01-29T17:49:09.790046",
     "exception": false,
     "start_time": "2022-01-29T17:49:09.766470",
     "status": "completed"
    },
    "tags": []
   },
   "outputs": [],
   "source": [
    "rules = pyfpgrowth.generate_association_rules(patterns, 0.7)"
   ]
  },
  {
   "cell_type": "code",
   "execution_count": 8,
   "id": "52614a1a",
   "metadata": {
    "execution": {
     "iopub.execute_input": "2022-01-29T17:49:09.826793Z",
     "iopub.status.busy": "2022-01-29T17:49:09.825774Z",
     "iopub.status.idle": "2022-01-29T17:49:09.829963Z",
     "shell.execute_reply": "2022-01-29T17:49:09.829362Z",
     "shell.execute_reply.started": "2022-01-29T17:47:52.734639Z"
    },
    "papermill": {
     "duration": 0.024983,
     "end_time": "2022-01-29T17:49:09.830115",
     "exception": false,
     "start_time": "2022-01-29T17:49:09.805132",
     "status": "completed"
    },
    "tags": []
   },
   "outputs": [
    {
     "data": {
      "text/plain": [
       "{(5,): ((1, 2), 1.0),\n",
       " (1, 5): ((2,), 1.0),\n",
       " (2, 5): ((1,), 1.0),\n",
       " (4,): ((2,), 1.0)}"
      ]
     },
     "execution_count": 8,
     "metadata": {},
     "output_type": "execute_result"
    }
   ],
   "source": [
    "rules"
   ]
  },
  {
   "cell_type": "code",
   "execution_count": null,
   "id": "7ef75c7e",
   "metadata": {
    "papermill": {
     "duration": 0.014856,
     "end_time": "2022-01-29T17:49:09.860088",
     "exception": false,
     "start_time": "2022-01-29T17:49:09.845232",
     "status": "completed"
    },
    "tags": []
   },
   "outputs": [],
   "source": []
  }
 ],
 "metadata": {
  "kernelspec": {
   "display_name": "Python 3",
   "language": "python",
   "name": "python3"
  },
  "language_info": {
   "codemirror_mode": {
    "name": "ipython",
    "version": 3
   },
   "file_extension": ".py",
   "mimetype": "text/x-python",
   "name": "python",
   "nbconvert_exporter": "python",
   "pygments_lexer": "ipython3",
   "version": "3.7.12"
  },
  "papermill": {
   "default_parameters": {},
   "duration": 25.191555,
   "end_time": "2022-01-29T17:49:10.487136",
   "environment_variables": {},
   "exception": null,
   "input_path": "__notebook__.ipynb",
   "output_path": "__notebook__.ipynb",
   "parameters": {},
   "start_time": "2022-01-29T17:48:45.295581",
   "version": "2.3.3"
  }
 },
 "nbformat": 4,
 "nbformat_minor": 5
}
